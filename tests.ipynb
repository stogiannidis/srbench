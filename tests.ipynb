{
 "cells": [
  {
   "cell_type": "code",
   "execution_count": 7,
   "metadata": {},
   "outputs": [
    {
     "name": "stdout",
     "output_type": "stream",
     "text": [
      "Loaded 2211 annotations\n"
     ]
    }
   ],
   "source": [
    "from datasets import Dataset, Image, Features, Value\n",
    "import json\n",
    "from PIL import Image as PILImage\n",
    "import os\n",
    "import glob\n",
    "\n",
    "\n",
    "def generate_examples():\n",
    "    for data in annotations:\n",
    "        image_path = os.path.join(\"Spatial-MM/data\", data[\"image_name\"])\n",
    "        try:\n",
    "            image = PILImage.open(image_path).convert(\"RGB\")  # Load image as RGB\n",
    "        except Exception as e:\n",
    "            print(\"Error loading image: \", image_path)\n",
    "            continue\n",
    "        yield {\n",
    "            \"image\": image,\n",
    "            \"question\": data[\"question\"],\n",
    "            \"answer\": data[\"answer\"],\n",
    "        }\n",
    "\n",
    "\n",
    "    # Load JSON annotations from multiple files\n",
    "annotations = []\n",
    "json_files = glob.glob(\"Spatial-MM/data/Spatial_MM_CoT/*.json\")\n",
    "for json_file in json_files:\n",
    "\twith open(json_file, \"r\") as f:\n",
    "\t\tannotations.extend(json.load(f))\n",
    "\n",
    "print(f\"Loaded {len(annotations)} annotations\")\n",
    "\n",
    "# Define dataset features (adjust based on your JSON structure)\n",
    "# features = Features(\n",
    "# \t{\n",
    "# \t\t\"image\": Image(),\n",
    "# \t\t\"question\": Value(\"string\"),\n",
    "# \t\t\"answer\": Value(\"string\"),\n",
    "# \t}\n",
    "# )\n",
    "\n",
    "# # Create the dataset\n",
    "# dataset = Dataset.from_generator(\n",
    "# \tgenerate_examples,\n",
    "# \tfeatures=features,\n",
    "# )\n",
    "\n",
    "# dataset\n",
    "    # dataset.push_to_hub(\"spatial_mm\", private=True)  # Push to the Hub\n",
    "\n"
   ]
  },
  {
   "cell_type": "code",
   "execution_count": null,
   "metadata": {},
   "outputs": [],
   "source": [
    "import shutil\n",
    "import os\n",
    "\n",
    "source_dirs = ['Spatial-MM/data/Spatial_MM_Obj', 'Spatial-MM/data/Spatial_MM_CoT']\n",
    "target_dir = 'Spatial-MM/data/images'\n",
    "\n",
    "# Create target directory if it doesn't exist\n",
    "os.makedirs(target_dir, exist_ok=True)\n",
    "\n",
    "for source in source_dirs:\n",
    "\tfor filename in os.listdir(source):\n",
    "\t\tsource_file = os.path.join(source, filename)\n",
    "\t\tif os.path.isfile(source_file):\n",
    "\t\t\tshutil.move(source_file, target_dir)"
   ]
  },
  {
   "cell_type": "code",
   "execution_count": null,
   "metadata": {},
   "outputs": [],
   "source": [
    "image_extensions = [\".jpg\", \".jpeg\", \".png\", \".bmp\", \".gif\"]\n",
    "\n",
    "source_dirs = [\"Spatial-MM/data/Spatial_MM_Obj\", \"Spatial-MM/data/Spatial_MM_CoT\"]\n",
    "target_dir = \"Spatial-MM/data/image_dir\"\n",
    "\n",
    "# Create target directory if it doesn't exist\n",
    "os.makedirs(target_dir, exist_ok=True)\n",
    "\n",
    "for source in source_dirs:\n",
    "\tfor filename in os.listdir(source):\n",
    "\t\tif os.path.splitext(filename)[1].lower() in image_extensions:\n",
    "\t\t\tshutil.move(os.path.join(source, filename), target_dir)\n"
   ]
  },
  {
   "cell_type": "code",
   "execution_count": 10,
   "metadata": {},
   "outputs": [
    {
     "name": "stdout",
     "output_type": "stream",
     "text": [
      "Number of images: 5702\n"
     ]
    }
   ],
   "source": [
    "image_extensions = ['.jpg', '.jpeg', '.png', '.bmp', '.gif']\n",
    "image_files = [\n",
    "\tf for f in os.listdir('Spatial-MM/data/Spatial_MM_Obj')\n",
    "\tif os.path.splitext(f)[1].lower() in image_extensions\n",
    "]\n",
    "print(f\"Number of images: {len(image_files)}\")"
   ]
  },
  {
   "cell_type": "code",
   "execution_count": 1,
   "metadata": {},
   "outputs": [
    {
     "name": "stdout",
     "output_type": "stream",
     "text": [
      "Loaded 33460 annotations\n"
     ]
    },
    {
     "data": {
      "text/plain": [
       "Dataset({\n",
       "    features: ['image', 'question', 'answer'],\n",
       "    num_rows: 33460\n",
       "})"
      ]
     },
     "execution_count": 1,
     "metadata": {},
     "output_type": "execute_result"
    }
   ],
   "source": [
    "from datasets import Dataset, Image, Features, Value\n",
    "import json\n",
    "from PIL import Image as PILImage\n",
    "import os\n",
    "import glob\n",
    "\n",
    "\n",
    "def generate_examples():\n",
    "    for data in annotations:\n",
    "        image_path = os.path.join(\"data/egobrientbench\", data[\"image\"])\n",
    "        try:\n",
    "            image = PILImage.open(image_path).convert(\"RGB\")  # Load image as RGB\n",
    "        except Exception as e:\n",
    "            print(\"Error loading image: \", image_path)\n",
    "            continue\n",
    "        yield {\n",
    "            \"image\": image,\n",
    "            \"question\": data[\"question\"],\n",
    "            \"answer\": data[\"label\"],\n",
    "        }\n",
    "\n",
    "    # Load JSON annotations from multiple files\n",
    "\n",
    "\n",
    "annotations = []\n",
    "json_files = glob.glob(\"data/egobrientbench/benchmark.json\")\n",
    "for json_file in json_files:\n",
    "    with open(json_file, \"r\") as f:\n",
    "        annotations.extend(json.load(f))\n",
    "\n",
    "print(f\"Loaded {len(annotations)} annotations\")\n",
    "\n",
    "# Define dataset features (adjust based on your JSON structure)\n",
    "features = Features(\n",
    "    {\n",
    "        \"image\": Image(),\n",
    "        \"question\": Value(\"string\"),\n",
    "        \"answer\": Value(\"string\"),\n",
    "    }\n",
    ")\n",
    "\n",
    "# Create the dataset\n",
    "dataset = Dataset.from_generator(\n",
    "    generate_examples,\n",
    "    features=features,\n",
    ")\n",
    "\n",
    "dataset\n",
    "# dataset.push_to_hub(\"spatial_mm\", private=True)  # Push to the Hub\n"
   ]
  },
  {
   "cell_type": "code",
   "execution_count": 3,
   "metadata": {},
   "outputs": [
    {
     "data": {
      "application/vnd.jupyter.widget-view+json": {
       "model_id": "16799e0a02e9495cac4d6f7697812dab",
       "version_major": 2,
       "version_minor": 0
      },
      "text/plain": [
       "Uploading the dataset shards:   0%|          | 0/9 [00:00<?, ?it/s]"
      ]
     },
     "metadata": {},
     "output_type": "display_data"
    },
    {
     "data": {
      "application/vnd.jupyter.widget-view+json": {
       "model_id": "db37f1b63f4142ff9dce19cf6bc34919",
       "version_major": 2,
       "version_minor": 0
      },
      "text/plain": [
       "Map:   0%|          | 0/3718 [00:00<?, ? examples/s]"
      ]
     },
     "metadata": {},
     "output_type": "display_data"
    },
    {
     "data": {
      "application/vnd.jupyter.widget-view+json": {
       "model_id": "69bd4ef2ef4a41709d81140b1fe838f7",
       "version_major": 2,
       "version_minor": 0
      },
      "text/plain": [
       "Creating parquet from Arrow format:   0%|          | 0/38 [00:00<?, ?ba/s]"
      ]
     },
     "metadata": {},
     "output_type": "display_data"
    },
    {
     "data": {
      "application/vnd.jupyter.widget-view+json": {
       "model_id": "bc05ed14059d4dfaa0715ab3453a4881",
       "version_major": 2,
       "version_minor": 0
      },
      "text/plain": [
       "Map:   0%|          | 0/3718 [00:00<?, ? examples/s]"
      ]
     },
     "metadata": {},
     "output_type": "display_data"
    },
    {
     "data": {
      "application/vnd.jupyter.widget-view+json": {
       "model_id": "b74b1fe8f72a409495946aff638ff24c",
       "version_major": 2,
       "version_minor": 0
      },
      "text/plain": [
       "Creating parquet from Arrow format:   0%|          | 0/38 [00:00<?, ?ba/s]"
      ]
     },
     "metadata": {},
     "output_type": "display_data"
    },
    {
     "data": {
      "application/vnd.jupyter.widget-view+json": {
       "model_id": "71cd24870d174a34b76e2e1330e8b13b",
       "version_major": 2,
       "version_minor": 0
      },
      "text/plain": [
       "Map:   0%|          | 0/3718 [00:00<?, ? examples/s]"
      ]
     },
     "metadata": {},
     "output_type": "display_data"
    },
    {
     "data": {
      "application/vnd.jupyter.widget-view+json": {
       "model_id": "04ae79cdd5584f9c91ac9f1791a02c36",
       "version_major": 2,
       "version_minor": 0
      },
      "text/plain": [
       "Creating parquet from Arrow format:   0%|          | 0/38 [00:00<?, ?ba/s]"
      ]
     },
     "metadata": {},
     "output_type": "display_data"
    },
    {
     "data": {
      "application/vnd.jupyter.widget-view+json": {
       "model_id": "2bf3de3c255b4635a009ede00e256fa5",
       "version_major": 2,
       "version_minor": 0
      },
      "text/plain": [
       "Map:   0%|          | 0/3718 [00:00<?, ? examples/s]"
      ]
     },
     "metadata": {},
     "output_type": "display_data"
    },
    {
     "data": {
      "application/vnd.jupyter.widget-view+json": {
       "model_id": "81612b80c0f848e2831e49ac6631fbc5",
       "version_major": 2,
       "version_minor": 0
      },
      "text/plain": [
       "Creating parquet from Arrow format:   0%|          | 0/38 [00:00<?, ?ba/s]"
      ]
     },
     "metadata": {},
     "output_type": "display_data"
    },
    {
     "data": {
      "application/vnd.jupyter.widget-view+json": {
       "model_id": "12e6d2c8e7604c3d89d7daf67c532ce0",
       "version_major": 2,
       "version_minor": 0
      },
      "text/plain": [
       "Map:   0%|          | 0/3718 [00:00<?, ? examples/s]"
      ]
     },
     "metadata": {},
     "output_type": "display_data"
    },
    {
     "data": {
      "application/vnd.jupyter.widget-view+json": {
       "model_id": "9662b52fb6794f30ac5d1163699dd80b",
       "version_major": 2,
       "version_minor": 0
      },
      "text/plain": [
       "Creating parquet from Arrow format:   0%|          | 0/38 [00:00<?, ?ba/s]"
      ]
     },
     "metadata": {},
     "output_type": "display_data"
    },
    {
     "data": {
      "application/vnd.jupyter.widget-view+json": {
       "model_id": "d9b787fd88ef4ea0bef8092f2e3843d1",
       "version_major": 2,
       "version_minor": 0
      },
      "text/plain": [
       "Map:   0%|          | 0/3718 [00:00<?, ? examples/s]"
      ]
     },
     "metadata": {},
     "output_type": "display_data"
    },
    {
     "data": {
      "application/vnd.jupyter.widget-view+json": {
       "model_id": "e7afc823c34c4d9e92700ca4b1a3ed45",
       "version_major": 2,
       "version_minor": 0
      },
      "text/plain": [
       "Creating parquet from Arrow format:   0%|          | 0/38 [00:00<?, ?ba/s]"
      ]
     },
     "metadata": {},
     "output_type": "display_data"
    },
    {
     "data": {
      "application/vnd.jupyter.widget-view+json": {
       "model_id": "3a354eece9b2427db7123237614fbbdc",
       "version_major": 2,
       "version_minor": 0
      },
      "text/plain": [
       "Map:   0%|          | 0/3718 [00:00<?, ? examples/s]"
      ]
     },
     "metadata": {},
     "output_type": "display_data"
    },
    {
     "data": {
      "application/vnd.jupyter.widget-view+json": {
       "model_id": "635507d5469b4f60a203b6965cb158b0",
       "version_major": 2,
       "version_minor": 0
      },
      "text/plain": [
       "Creating parquet from Arrow format:   0%|          | 0/38 [00:00<?, ?ba/s]"
      ]
     },
     "metadata": {},
     "output_type": "display_data"
    },
    {
     "data": {
      "application/vnd.jupyter.widget-view+json": {
       "model_id": "78aef6d280f94d60bc0a3d5cc18cab24",
       "version_major": 2,
       "version_minor": 0
      },
      "text/plain": [
       "Map:   0%|          | 0/3717 [00:00<?, ? examples/s]"
      ]
     },
     "metadata": {},
     "output_type": "display_data"
    },
    {
     "data": {
      "application/vnd.jupyter.widget-view+json": {
       "model_id": "d4f584fa912242e7885575bb02d749d4",
       "version_major": 2,
       "version_minor": 0
      },
      "text/plain": [
       "Creating parquet from Arrow format:   0%|          | 0/38 [00:00<?, ?ba/s]"
      ]
     },
     "metadata": {},
     "output_type": "display_data"
    },
    {
     "data": {
      "application/vnd.jupyter.widget-view+json": {
       "model_id": "9dfd7bde9cd141a4b909c077cf39813b",
       "version_major": 2,
       "version_minor": 0
      },
      "text/plain": [
       "Map:   0%|          | 0/3717 [00:00<?, ? examples/s]"
      ]
     },
     "metadata": {},
     "output_type": "display_data"
    },
    {
     "data": {
      "application/vnd.jupyter.widget-view+json": {
       "model_id": "b83de68a05a745f38395902597d7f6e8",
       "version_major": 2,
       "version_minor": 0
      },
      "text/plain": [
       "Creating parquet from Arrow format:   0%|          | 0/38 [00:00<?, ?ba/s]"
      ]
     },
     "metadata": {},
     "output_type": "display_data"
    },
    {
     "data": {
      "text/plain": [
       "CommitInfo(commit_url='https://huggingface.co/datasets/stogian/egoorientbench/commit/555bae171477e4755b0193eed2cc9f6c42b4d6e5', commit_message='Upload dataset', commit_description='', oid='555bae171477e4755b0193eed2cc9f6c42b4d6e5', pr_url=None, repo_url=RepoUrl('https://huggingface.co/datasets/stogian/egoorientbench', endpoint='https://huggingface.co', repo_type='dataset', repo_id='stogian/egoorientbench'), pr_revision=None, pr_num=None)"
      ]
     },
     "execution_count": 3,
     "metadata": {},
     "output_type": "execute_result"
    }
   ],
   "source": [
    "dataset.push_to_hub(\"stogian/egoorientbench\", private=True )  # Push to the Hub"
   ]
  },
  {
   "cell_type": "code",
   "execution_count": null,
   "metadata": {},
   "outputs": [],
   "source": [
    "from transformers import AutoTokenizer, AutoModel\n",
    "from huggingface_hub import notebook_login\n",
    "\n",
    "!pip install transformers\n",
    "\n",
    "\n",
    "model_name = \"bert-base-uncased\"\n",
    "model = AutoModel.from_pretrained(model_name, cache_dir=\"../bin/models/\"+model_name)\n",
    "tokenizer = AutoTokenizer.from_pretrained(model_name, cache_dir=\"../bin/models/\"+model_name)\n",
    "notebook_login()"
   ]
  }
 ],
 "metadata": {
  "kernelspec": {
   "display_name": "srbench",
   "language": "python",
   "name": "python3"
  },
  "language_info": {
   "codemirror_mode": {
    "name": "ipython",
    "version": 3
   },
   "file_extension": ".py",
   "mimetype": "text/x-python",
   "name": "python",
   "nbconvert_exporter": "python",
   "pygments_lexer": "ipython3",
   "version": "3.12.8"
  }
 },
 "nbformat": 4,
 "nbformat_minor": 2
}
